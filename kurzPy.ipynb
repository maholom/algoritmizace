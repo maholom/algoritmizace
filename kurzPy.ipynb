{
  "nbformat": 4,
  "nbformat_minor": 0,
  "metadata": {
    "colab": {
      "name": "kurzPy.ipynb",
      "provenance": [],
      "collapsed_sections": [],
      "authorship_tag": "ABX9TyNS3XpRZGRm4yY0ADFHjEZg",
      "include_colab_link": true
    },
    "kernelspec": {
      "name": "python3",
      "display_name": "Python 3"
    },
    "language_info": {
      "name": "python"
    }
  },
  "cells": [
    {
      "cell_type": "markdown",
      "metadata": {
        "id": "view-in-github",
        "colab_type": "text"
      },
      "source": [
        "<a href=\"https://colab.research.google.com/github/maholom/algoritmizace/blob/main/kurzPy.ipynb\" target=\"_parent\"><img src=\"https://colab.research.google.com/assets/colab-badge.svg\" alt=\"Open In Colab\"/></a>"
      ]
    },
    {
      "cell_type": "code",
      "metadata": {
        "id": "Tw2ft59YwE7Z"
      },
      "source": [
        ""
      ],
      "execution_count": null,
      "outputs": []
    },
    {
      "cell_type": "markdown",
      "metadata": {
        "id": "5RjBOQZ_w1x2"
      },
      "source": [
        "Napište program, který načte od uživatele teplotu ve stupňích Celsia a vypíše ji na obrazovku v Kelvinech a Fahrenheitech.\n"
      ]
    },
    {
      "cell_type": "code",
      "metadata": {
        "colab": {
          "base_uri": "https://localhost:8080/"
        },
        "id": "mV9KlAA5w8JY",
        "outputId": "d0a4e656-f4b4-4879-8e80-28eacd3ed864"
      },
      "source": [
        "vstup = float(input(\"Zadej teplotu ve stupnich Celsia: \"))\n",
        "vysledek1 = vstup + 273.15\n",
        "vysledek2 = (vstup * (9/5)) + 32\n",
        "print(f\"{vstup} stupnu Celsia odpovida {vysledek1} ve stupnici Kelvina a {vysledek2} ve stupnici Fahrenheita.\")"
      ],
      "execution_count": 9,
      "outputs": [
        {
          "output_type": "stream",
          "text": [
            "Zadej teplotu ve stupnich Celsia: 19\n",
            "19.0 stupnu Celsia odpovida 292.15 ve stupnici Kelvina a 66.2 ve stupnici Fahrenheita.\n"
          ],
          "name": "stdout"
        }
      ]
    },
    {
      "cell_type": "markdown",
      "metadata": {
        "id": "sHBTBmCh3pJC"
      },
      "source": [
        "Napište program, který přijme od uživatele délku odvěsen pravoúhlého trojúhelníka a vypočte délku přepony.\n"
      ]
    },
    {
      "cell_type": "code",
      "metadata": {
        "colab": {
          "base_uri": "https://localhost:8080/"
        },
        "id": "kgzmJP0f3rM3",
        "outputId": "845ce23b-39fa-4502-a928-206493df4bb1"
      },
      "source": [
        "import math\n",
        "\n",
        "a = float(input(\"Zadej delku prvni odvesny pravouhleho trojuhelnika: \"))\n",
        "b = float(input(\"Zadej delku druhe odvesny pravouhleho trojuhelnika: \"))\n",
        "vysledek = math.sqrt(a*a + b*b)\n",
        "print(f'Delka prepony pravouhleho trojuhelnika je: {vysledek}')\n"
      ],
      "execution_count": 3,
      "outputs": [
        {
          "output_type": "stream",
          "text": [
            "Zadej delku prvni odvesny pravouhleho trojuhelnika: 5\n",
            "Zadej delku druhe odvesny pravouhleho trojuhelnika: 8\n",
            "Delka prepony pravouhleho trojuhelnika je: 9.433981132056603\n"
          ],
          "name": "stdout"
        }
      ]
    },
    {
      "cell_type": "markdown",
      "metadata": {
        "id": "bMA6dZUuRqqf"
      },
      "source": [
        "Napište program, který přijme od uživatele tvar monomeru (např.: CH2) a z kolika monomerů se polymer skládá (např.: 4) a program na obrazovku vypíše pomocí opakování řetězců tvar takového polymeru (např.: CH2-CH2-CH2-CH2)\n"
      ]
    },
    {
      "cell_type": "code",
      "metadata": {
        "id": "A3yDFUiYRtpC"
      },
      "source": [
        "monomer =  input(\"Zadej tvar monomeru: \")\n",
        "polymer = int(input(\"Z kolika monomeru se polymer sklada?: \"))\n",
        "vysledek = print((monomer+\"-\")*(polymer-1) + monomer)"
      ],
      "execution_count": null,
      "outputs": []
    }
  ]
}