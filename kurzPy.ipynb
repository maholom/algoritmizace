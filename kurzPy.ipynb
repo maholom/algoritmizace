{
  "nbformat": 4,
  "nbformat_minor": 0,
  "metadata": {
    "colab": {
      "name": "kurzPy.ipynb",
      "provenance": [],
      "collapsed_sections": [],
      "authorship_tag": "ABX9TyMAZI8ASuHAEAL6M0g6M0be",
      "include_colab_link": true
    },
    "kernelspec": {
      "display_name": "Python 3",
      "name": "python3"
    },
    "language_info": {
      "name": "python"
    }
  },
  "cells": [
    {
      "cell_type": "markdown",
      "metadata": {
        "id": "view-in-github",
        "colab_type": "text"
      },
      "source": [
        "<a href=\"https://colab.research.google.com/github/maholom/algoritmizace/blob/main/kurzPy.ipynb\" target=\"_parent\"><img src=\"https://colab.research.google.com/assets/colab-badge.svg\" alt=\"Open In Colab\"/></a>"
      ]
    },
    {
      "cell_type": "code",
      "metadata": {
        "id": "Tw2ft59YwE7Z"
      },
      "source": [
        ""
      ],
      "execution_count": null,
      "outputs": []
    },
    {
      "cell_type": "markdown",
      "metadata": {
        "id": "KHb5kSmbVt78"
      },
      "source": [
        "KURZ ALGORITMIZACE V PYTHONU online UJEP \n"
      ]
    },
    {
      "cell_type": "markdown",
      "metadata": {
        "id": "5RjBOQZ_w1x2"
      },
      "source": [
        "Napište program, který načte od uživatele teplotu ve stupňích Celsia a vypíše ji na obrazovku v Kelvinech a Fahrenheitech.\n"
      ]
    },
    {
      "cell_type": "code",
      "metadata": {
        "colab": {
          "base_uri": "https://localhost:8080/"
        },
        "id": "mV9KlAA5w8JY",
        "outputId": "d0a4e656-f4b4-4879-8e80-28eacd3ed864"
      },
      "source": [
        "vstup = float(input(\"Zadej teplotu ve stupnich Celsia: \"))\n",
        "vysledek1 = vstup + 273.15\n",
        "vysledek2 = (vstup * (9/5)) + 32\n",
        "print(f\"{vstup} stupnu Celsia odpovida {vysledek1} ve stupnici Kelvina a {vysledek2} ve stupnici Fahrenheita.\")"
      ],
      "execution_count": null,
      "outputs": [
        {
          "output_type": "stream",
          "text": [
            "Zadej teplotu ve stupnich Celsia: 19\n",
            "19.0 stupnu Celsia odpovida 292.15 ve stupnici Kelvina a 66.2 ve stupnici Fahrenheita.\n"
          ],
          "name": "stdout"
        }
      ]
    },
    {
      "cell_type": "markdown",
      "metadata": {
        "id": "sHBTBmCh3pJC"
      },
      "source": [
        "Napište program, který přijme od uživatele délku odvěsen pravoúhlého trojúhelníka a vypočte délku přepony.\n"
      ]
    },
    {
      "cell_type": "code",
      "metadata": {
        "colab": {
          "base_uri": "https://localhost:8080/"
        },
        "id": "kgzmJP0f3rM3",
        "outputId": "845ce23b-39fa-4502-a928-206493df4bb1"
      },
      "source": [
        "import math\n",
        "\n",
        "a = float(input(\"Zadej delku prvni odvesny pravouhleho trojuhelnika: \"))\n",
        "b = float(input(\"Zadej delku druhe odvesny pravouhleho trojuhelnika: \"))\n",
        "vysledek = math.sqrt(a*a + b*b)\n",
        "print(f'Delka prepony pravouhleho trojuhelnika je: {vysledek}')\n"
      ],
      "execution_count": null,
      "outputs": [
        {
          "output_type": "stream",
          "text": [
            "Zadej delku prvni odvesny pravouhleho trojuhelnika: 5\n",
            "Zadej delku druhe odvesny pravouhleho trojuhelnika: 8\n",
            "Delka prepony pravouhleho trojuhelnika je: 9.433981132056603\n"
          ],
          "name": "stdout"
        }
      ]
    },
    {
      "cell_type": "markdown",
      "metadata": {
        "id": "bMA6dZUuRqqf"
      },
      "source": [
        "Napište program, který přijme od uživatele tvar monomeru (např.: CH2) a z kolika monomerů se polymer skládá (např.: 4) a program na obrazovku vypíše pomocí opakování řetězců tvar takového polymeru (např.: CH2-CH2-CH2-CH2)\n"
      ]
    },
    {
      "cell_type": "code",
      "metadata": {
        "colab": {
          "base_uri": "https://localhost:8080/"
        },
        "id": "A3yDFUiYRtpC",
        "outputId": "5a72ad60-935c-4faa-fbb1-842a04d1e790"
      },
      "source": [
        "monomer =  input(\"Zadej tvar monomeru: \")\n",
        "polymer = int(input(\"Z kolika monomeru se polymer sklada?: \"))\n",
        "vysledek = print((monomer+\"-\")*(polymer-1) + monomer)"
      ],
      "execution_count": null,
      "outputs": [
        {
          "output_type": "stream",
          "text": [
            "Zadej tvar monomeru: CH2\n",
            "Z kolika monomeru se polymer sklada?: 6\n",
            "CH2-CH2-CH2-CH2-CH2-CH2\n"
          ],
          "name": "stdout"
        }
      ]
    },
    {
      "cell_type": "markdown",
      "metadata": {
        "id": "fAknoxbTbI-l"
      },
      "source": [
        "Napište program, který přijme od\n",
        " uživatele velikost rychlosti oštěpu a úhel, pod kterým byl oštěp vržen. Program následně vypíše na obrazovku vzdálenost, do které oštěp doletěl (nápověda: model šikmého vrhu)\n"
      ]
    },
    {
      "cell_type": "code",
      "metadata": {
        "id": "H5iv0mPLbZd_",
        "colab": {
          "base_uri": "https://localhost:8080/"
        },
        "outputId": "7c16beb9-efdb-4736-8403-711b9a85afea"
      },
      "source": [
        "import math\n",
        "\n",
        "v = int(input(\"Zadej rychlost v m/s: \"))\n",
        "a = int(input(\"Zadej uhel, pod kterym byl ostep vrzen: \"))\n",
        "b = float(math.sin(math.radians(2 * a)))\n",
        "d = float((v*v/9.81)*b)\n",
        "print(f'Ostep doletel do vzdalenosti {d} metru.')\n"
      ],
      "execution_count": null,
      "outputs": [
        {
          "output_type": "stream",
          "text": [
            "Zadej rychlost v m/s: 10\n",
            "Zadej uhel, pod kterym byl ostep vrzen: 45\n",
            "Ostep doletel do vzdalenosti 10.19367991845056 metru.\n"
          ],
          "name": "stdout"
        }
      ]
    },
    {
      "cell_type": "markdown",
      "metadata": {
        "id": "xUou0SMpV7aJ"
      },
      "source": [
        "Napište program, který přijme od uživatele souřadnice X a Y dvou osobe. Program následně spočítá o kolik se mají od sebe oddálit nebo jakou mají rezervu. Např.: pokud jejich vzdálenost bude 4 metry a podmínkou je být alespoň dva metry od sebe, pak program vypíše -2 (mají rezervu dva metry).\n"
      ]
    },
    {
      "cell_type": "code",
      "metadata": {
        "colab": {
          "base_uri": "https://localhost:8080/"
        },
        "id": "a-ERTDWvWDdH",
        "outputId": "41db7d49-3522-44d5-d90b-de428cd14040"
      },
      "source": [
        "import math\n",
        "\n",
        "ax=float(input('Zadej souřadnici x první osoby: '))\n",
        "ay=float(input('Zadej souřadnici y první osoby: '))\n",
        "bx=float(input('Zadej souřadnici x druhé osoby: '))\n",
        "by=float(input('Zadej souřadnici y druhé osoby: '))\n",
        "\n",
        "min_vzdalenost=2\n",
        "\n",
        "vypocet=math.sqrt((ax-bx)**2 + (ay-by)**2)\n",
        "presah=min_vzdalenost-vypocet\n",
        "\n",
        "print(f'První osoba na souřadnicich {ax,bx} a druhá osoba {ay,by} by se měly oddálit o {presah}m.')"
      ],
      "execution_count": 2,
      "outputs": [
        {
          "output_type": "stream",
          "text": [
            "Zadej souřadnici x první osoby: 2\n",
            "Zadej souřadnici y první osoby: 3\n",
            "Zadej souřadnici x druhé osoby: 3\n",
            "Zadej souřadnici y druhé osoby: 4\n",
            "První osoba na souřadnicich (2.0, 3.0) a druhá osoba (3.0, 4.0) by se měli oddálit o 0.5857864376269049m.\n"
          ],
          "name": "stdout"
        }
      ]
    },
    {
      "cell_type": "markdown",
      "metadata": {
        "id": "gXxY3LrR3qwq"
      },
      "source": [
        "Napište program, který imituje jeden hod kostkou ve hře Člověče nezlob se. Postavička se nachází na políčku 1. Hra vyzve uživatele k hodu. Podle čísla, jenž padne na 6-stěnné kostce, se postavička o příslušný počet pozic posune na nové políčko. Hod kostkou je řízen náhodným generátorem. Pokud padne číslo 6, pak hráč hází znovu (max 1x).\n"
      ]
    },
    {
      "cell_type": "code",
      "metadata": {
        "colab": {
          "base_uri": "https://localhost:8080/"
        },
        "id": "vBk9Fuk03sJw",
        "outputId": "d1ced88b-84f3-4bfd-d0b0-3e7dc847e637"
      },
      "source": [
        "import random\n",
        "\n",
        "pozice = 1\n",
        "start = input('Hod kostkou! stiskni enter')\n",
        "hod = random.randint(1, 6)\n",
        "newPozice = pozice + hod\n",
        "if hod == 6: print(f'Hodil jsi sestku, postup o 6 policek a hazej znovu.') \n",
        "else: print(f'Hodil jsi {hod}. Postupujes na policko {newPozice}.')"
      ],
      "execution_count": 11,
      "outputs": [
        {
          "output_type": "stream",
          "text": [
            "Hod kostkou! stiskni enter\n",
            "Hodil jsi 2. Postupujes na policko 3.\n"
          ],
          "name": "stdout"
        }
      ]
    }
  ]
}