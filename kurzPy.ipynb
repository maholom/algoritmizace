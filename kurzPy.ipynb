{
  "nbformat": 4,
  "nbformat_minor": 0,
  "metadata": {
    "colab": {
      "name": "kurzPy.ipynb",
      "provenance": [],
      "collapsed_sections": [],
      "authorship_tag": "ABX9TyOslq0c1ux2b0L8mfJu5TZp",
      "include_colab_link": true
    },
    "kernelspec": {
      "name": "python3",
      "display_name": "Python 3"
    },
    "language_info": {
      "name": "python"
    }
  },
  "cells": [
    {
      "cell_type": "markdown",
      "metadata": {
        "id": "view-in-github",
        "colab_type": "text"
      },
      "source": [
        "<a href=\"https://colab.research.google.com/github/maholom/algoritmizace/blob/main/kurzPy.ipynb\" target=\"_parent\"><img src=\"https://colab.research.google.com/assets/colab-badge.svg\" alt=\"Open In Colab\"/></a>"
      ]
    },
    {
      "cell_type": "code",
      "metadata": {
        "id": "Tw2ft59YwE7Z"
      },
      "source": [
        ""
      ],
      "execution_count": null,
      "outputs": []
    },
    {
      "cell_type": "markdown",
      "metadata": {
        "id": "5RjBOQZ_w1x2"
      },
      "source": [
        "Napište program, který načte od uživatele teplotu ve stupňích Celsia a vypíše ji na obrazovku v Kelvinech a Fahrenheitech.\n"
      ]
    },
    {
      "cell_type": "code",
      "metadata": {
        "colab": {
          "base_uri": "https://localhost:8080/"
        },
        "id": "mV9KlAA5w8JY",
        "outputId": "d0a4e656-f4b4-4879-8e80-28eacd3ed864"
      },
      "source": [
        "vstup = float(input(\"Zadej teplotu ve stupnich Celsia: \"))\n",
        "vysledek1 = vstup + 273.15\n",
        "vysledek2 = (vstup * (9/5)) + 32\n",
        "print(f\"{vstup} stupnu Celsia odpovida {vysledek1} ve stupnici Kelvina a {vysledek2} ve stupnici Fahrenheita.\")"
      ],
      "execution_count": 9,
      "outputs": [
        {
          "output_type": "stream",
          "text": [
            "Zadej teplotu ve stupnich Celsia: 19\n",
            "19.0 stupnu Celsia odpovida 292.15 ve stupnici Kelvina a 66.2 ve stupnici Fahrenheita.\n"
          ],
          "name": "stdout"
        }
      ]
    },
    {
      "cell_type": "markdown",
      "metadata": {
        "id": "sHBTBmCh3pJC"
      },
      "source": [
        "Napište program, který přijme od uživatele délku odvěsen pravoúhlého trojúhelníka a vypočte délku přepony.\n"
      ]
    },
    {
      "cell_type": "code",
      "metadata": {
        "colab": {
          "base_uri": "https://localhost:8080/"
        },
        "id": "kgzmJP0f3rM3",
        "outputId": "fc9dd1cf-9642-4589-c8de-62efd445193e"
      },
      "source": [
        "import math\n",
        "\n",
        "a = float(input(\"Zadej delku prvni odvesny pravouhleho trojuhelnika: \"))\n",
        "b = float(input(\"Zadej delku druhe odvesny pravouhleho trojuhelnika: \"))\n",
        "vysledek = math.sqrt(a*a + b*b)\n",
        "print(f'Delka prepony pravouhleho trojuhelnika je: {vysledek}')\n"
      ],
      "execution_count": 2,
      "outputs": [
        {
          "output_type": "stream",
          "text": [
            "Zadej delku prvni odvesny pravouhleho trojuhelnika: 10\n",
            "Zadej delku druhe odvesny pravouhleho trojuhelnika: 6\n",
            "Delka prepony pravouhleho trojuhelnika je: 11.661903789690601\n"
          ],
          "name": "stdout"
        }
      ]
    }
  ]
}