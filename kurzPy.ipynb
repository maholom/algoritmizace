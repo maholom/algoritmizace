{
  "nbformat": 4,
  "nbformat_minor": 0,
  "metadata": {
    "colab": {
      "name": "kurzPy.ipynb",
      "provenance": [],
      "collapsed_sections": [],
      "authorship_tag": "ABX9TyORh2nYqFWY4jga8EMOjQRX",
      "include_colab_link": true
    },
    "kernelspec": {
      "name": "python3",
      "display_name": "Python 3"
    },
    "language_info": {
      "name": "python"
    }
  },
  "cells": [
    {
      "cell_type": "markdown",
      "metadata": {
        "id": "view-in-github",
        "colab_type": "text"
      },
      "source": [
        "<a href=\"https://colab.research.google.com/github/maholom/bin-packing/blob/main/kurzPy.ipynb\" target=\"_parent\"><img src=\"https://colab.research.google.com/assets/colab-badge.svg\" alt=\"Open In Colab\"/></a>"
      ]
    },
    {
      "cell_type": "code",
      "metadata": {
        "id": "Tw2ft59YwE7Z"
      },
      "source": [
        ""
      ],
      "execution_count": null,
      "outputs": []
    },
    {
      "cell_type": "markdown",
      "metadata": {
        "id": "5RjBOQZ_w1x2"
      },
      "source": [
        "Napište program, který načte od uživatele teplotu ve stupňích Celsia a vypíše ji na obrazovku v Kelvinech a Fahrenheitech.\n"
      ]
    },
    {
      "cell_type": "code",
      "metadata": {
        "colab": {
          "base_uri": "https://localhost:8080/"
        },
        "id": "mV9KlAA5w8JY",
        "outputId": "e7b51508-3f25-410f-f090-16e135e227c0"
      },
      "source": [
        "vstup = float(input(\"Zadej teplotu ve stupnich Celsia: \"))\n",
        "vysledek1 = vstup + 273.15\n",
        "vysledek2 = (vstup * (9/5)) + 32\n",
        "print(f\"{vstup} stupnu Celsia odpovida {vysledek1} ve stupnici Kelvina a {vysledek2} ve stupnici Fahrenheita.\")"
      ],
      "execution_count": 8,
      "outputs": [
        {
          "output_type": "stream",
          "text": [
            "Zadej teplotu ve stupnich Celsia: -10\n",
            "-10.0 stupnu Celsia odpovida 263.15 ve stupnici Kelvina a 14.0 ve stupnici Fahrenheita.\n"
          ],
          "name": "stdout"
        }
      ]
    }
  ]
}